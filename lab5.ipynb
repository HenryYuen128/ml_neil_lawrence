{
 "cells": [
  {
   "cell_type": "markdown",
   "metadata": {},
   "source": [
    "# Generalization and Model Validation\n",
    "\n",
    "### by Neil Lawrence (2015)"
   ]
  },
  {
   "cell_type": "markdown",
   "metadata": {},
   "source": [
    "If we had to summarise the objectives of machine learning in one word, a very good candidate for that word would be *generalization*. What is generalization? From a human perspective it might be summarised as the ability to take lessons learned in one domain and apply them to another domain. If we accept the definition given in the first session for machine learning, \n",
    "$$\n",
    "\\text{data} + \\text{model} \\rightarrow \\text{prediction}\n",
    "$$\n",
    "then we see that without a model we can't generalise: we only have data. Data is fine for answering very specific questions, like \"Who won the Olympic Marathon in 2012?\", because we have that answer stored, however, we are not given the answer to many other questions. For example, Alan Turing was a formidable marathon runner, in 1946 he ran a time 2 hours 46 minutes (just under four minutes per kilometer, faster than I and most of the other [Endcliffe Park Run](http://www.parkrun.org.uk/sheffieldhallam/) runners can do 5 km). What is the probability he would have won an Olympics if one had been held in 1946?  \n",
    "![Alan Turing, Times in the Times](http://www.turing.org.uk/turing/pi2/times2.gif)![Alan Turing running in 1946](http://www.turing.org.uk/turing/pi2/run.jpg)\n",
    "<center>*Alan Turing, in 1946 he was only 11 minutes slower than the winner of the 1948 games. Would he have won a hypothetical games held in 1946? Source: [Alan Turing Internet Scrapbook](http://www.turing.org.uk/scrapbook/run.html).*</center>\n",
    "To answer this question we need to generalize, but before we formalize the concept of generalization let's introduce some formal representation of what it means to generalize in machine learning.\n",
    "\n",
    "### Expected Loss\n",
    "\n",
    "Our objective function so far has been the negative log likelihood, which we have minimized (via the sum of squares error) to obtain our model. However, there is an alternative perspective on an objective function, that of a *loss function*. A loss function is a cost function associated with the penalty you might need to pay for a particular incorrect decision. One approach to machine learning involves specifying a loss function and considering how much a particular model is likely to cost us across its lifetime. We can represent this with an expectation. If our loss function is given as $L(y, x, \\mathbf{w})$ for a particular model that predicts $y$ given $x$ and $w$ then we are interested in minimizing the expected loss under the likely distribution of $y$ and $x$. To understand this formally we define the *true* distribution of the data samples, $y$, $x$. This is a very special distribution that we don't have access to very often, and to represent that we define it with a special letter 'P', $\\mathbb{P}(y, x)$. If we genuinely pay $L(y, x, \\mathbf{w})$ for every mistake we make, and the future test data is genuinely drawn from $\\mathbb{P}(y, x)$ then we can define our expected loss, or risk, to be,\n",
    "$$\n",
    "R(\\mathbf{w}) = \\int L(y, x, w) \\mathbb{P}(y, x) \\text{d}y \\text{d}x.\n",
    "$$\n",
    "Of course, in practice, this value can't be computed *but* it serves as a reminder of what it is we are aiming to minimize and under certain circumstances it can be approximated.\n",
    "\n",
    "### Sample Based Approximations\n",
    "\n",
    "A sample based approximation to an expectation involves replacing the true expectation with a sum over samples from the distribution. \n",
    "$$\n",
    "\\int f(z) p(z) \\text{d}y \\text{d}z\\approx \\frac{1}{s}\\sum_{i=1}^s f(z_i).\n",
    "$$\n",
    "if $\\{z_i\\}_{i=1}^s$ are a set of $s$ independent and identically distributed samples from the distribution $p(z)$. This approximation becomes better for larger $s$, although the *rate of convergence* to the true integral will be very dependent on the distribution $p(z)$ *and* the function $f(z)$. \n",
    "\n",
    "That said, this means we can approximate our true integral with the sum,\n",
    "$$\n",
    "R(\\mathbf{w}) \\approx \\frac{1}{n}\\sum_{i=1}^n L(y_i, x_i, w),\n",
    "$$\n",
    "if $y_i$ and $x_i$ are independent samples from the true distribution $\\mathbb{P}(y, x)$. Minimizing this sum directly is known as *empirical risk minimization*. The sum of squares error we have been using can be recovered for this case by considering a *squared loss*,\n",
    "$$\n",
    "L(y, x, \\mathbf{w}) = (y-\\mathbf{w}^\\top\\boldsymbol{\\phi}(x))^2\n",
    "$$\n",
    "which gives an empirical risk of the form\n",
    "$$\n",
    "R(\\mathbf{w}) \\approx \\frac{1}{n} \\sum_{i=1}^n (y_i - \\mathbf{w}^\\top \\boldsymbol{\\phi}(x_i))^2\n",
    "$$\n",
    "which up to the constant $\\frac{1}{n}$ is identical to the objective function we have been using so far.\n",
    "\n",
    "\n",
    "### Estimating Risk through Validation\n",
    "\n",
    "Unfortuantely, minimising the empirial risk only guarantees something about our performance on the training data. If we don't have enough data for the approximation to the risk to be valid, then we can end up performing significantly worse on test data. Fortunately, we can also estimate the risk for test data through estimating the risk for unseen data.\n",
    "\n",
    "The main trick here is to 'hold out' a portion of our data from training and use the models performance on that sub-set of the data as a proxy for the true risk. This data is known as 'validation' data. It contrasts with test data, because it's values are known at the model design time. However, in contrast to test date we don't use it to fit our model. This means that it doesn't exhibit the same bias that the empirical risk does when estimating the true risk.\n",
    "\n",
    "In this lab we will explore techniques for model selection that make use of validation data. Data that isn't seen by the model in the learning (or fitting) phase, but is used to *validate* our choice of model from amoungst the different designs we have selected.\n",
    "\n",
    "In machine learning, we are looking to minimise the value of our objective function $E$ with respect to its parameters $\\mathbf{w}$. We do this by considering our training data. We minimize the value of the objective function as it's observed at each training point. However we are really interested in how the model will perform on future data. For evaluating that we choose to *hold out* a portion of the data for evaluating the quality of the model.\n",
    "\n",
    "We will review the different methods of model selection on the Olympics marathon data. Firstly we import the olympics data. "
   ]
  },
  {
   "cell_type": "code",
   "execution_count": 1,
   "metadata": {
    "collapsed": false
   },
   "outputs": [],
   "source": [
    "import numpy as np\n",
    "import pods\n",
    "data = pods.datasets.olympic_marathon_men()\n",
    "x = data['X']\n",
    "y = data['Y']"
   ]
  },
  {
   "cell_type": "markdown",
   "metadata": {},
   "source": [
    "We can plot them to check that they've loaded in correctly.\n"
   ]
  },
  {
   "cell_type": "code",
   "execution_count": 2,
   "metadata": {
    "collapsed": false
   },
   "outputs": [
    {
     "data": {
      "text/plain": [
       "[<matplotlib.lines.Line2D at 0x11b035438>]"
      ]
     },
     "execution_count": 2,
     "metadata": {},
     "output_type": "execute_result"
    },
    {
     "data": {
      "image/png": "[encoded data removed]",
      "text/plain": [
       "<matplotlib.figure.Figure at 0x1061518d0>"
      ]
     },
     "metadata": {},
     "output_type": "display_data"
    }
   ],
   "source": [
    "%matplotlib inline\n",
    "import pylab as plt\n",
    "plt.plot(x, y, 'rx')"
   ]
  },
  {
   "cell_type": "markdown",
   "metadata": {},
   "source": [
    "## Hold Out Validation\n",
    "\n",
    "The first thing we'll do is fit a standard linear model to the data. We recall from previous lectures and lab classes that to do this we need to solve the system\n",
    "$$\n",
    "\\boldsymbol{\\Phi}^\\top \\boldsymbol{\\Phi} \\mathbf{w} = \\boldsymbol{\\Phi}^\\top \\mathbf{y}\n",
    "$$\n",
    "for $\\mathbf{w}$  and use the resulting vector to make predictions at the training points and test points,\n",
    "$$\n",
    "\\mathbf{f} = \\boldsymbol{\\Phi} \\mathbf{w}.\n",
    "$$\n",
    "The prediction function can be used to compute the objective function,\n",
    "$$\n",
    "E(\\mathbf{w}) = \\sum_{i}^n (y_i - \\mathbf{w}^\\top\\phi(\\mathbf{x}_i))^2\n",
    "$$\n",
    "by substituting in the prediction in vector form we have\n",
    "$$\n",
    "E(\\mathbf{w}) =  (\\mathbf{y} - \\mathbf{f})^\\top(\\mathbf{y} - \\mathbf{f})\n",
    "$$"
   ]
  },
  {
   "cell_type": "markdown",
   "metadata": {},
   "source": [
    "### Assignment Question 1\n",
    "\n",
    "In this question you will construct some flexible general code for fitting linear models.\n",
    "\n",
    "Create a python function that computes $\\boldsymbol{\\Phi}$ for the linear basis,\n",
    "$$\\boldsymbol{\\Phi} = \\begin{bmatrix} \\mathbf{x} & \\mathbf{1}\\end{bmatrix}$$\n",
    "Name your function `linear`. `Phi` should be in the form of a *design matrix* and `x` should be in the form of a `numpy` two dimensional array with $n$ rows and 1 column\n",
    "Calls to your function should be in the following form:\n",
    "\n",
    "```python\n",
    "Phi = linear(x)\n",
    "```\n",
    "\n",
    "Create a python function that accepts, as arguments, a python function that defines a basis (like the one you've just created called `linear`) as well as a set of inputs and a vector of parameters. Your new python function should return a prediction. Name your function `prediction`. The return value `f` should be a two dimensional `numpy` array with $n$ rows and $1$ column, where $n$ is the number of data points. Calls to your function should be in the following form:\n",
    "\n",
    "```python\n",
    "f = prediction(w, x, linear)\n",
    "```\n",
    "\n",
    "Create a python function that computes the sum of squares objective function (or error function). It should accept your input data (or covariates) and target data (or response variables) and your parameter vector `w` as arguments. It should also accept a python function that represents the basis. Calls to your function should be in the following form:\n",
    "\n",
    "```python\n",
    "e = objective(w, x, y, linear)\n",
    "```\n",
    "\n",
    "Create a function that solves the linear system for the set of parameters that minimizes the sum of squares objective. It should accept input data, target data and a python function for the basis as the inputs. Calls to your function should be in the following form:\n",
    "\n",
    "```python\n",
    "w = fit(x, y, linear)\n",
    "```\n",
    "\n",
    "Fit a linear model to the olympic data using these functions and plot the resulting prediction between 1890 and 2020. Set the title of the plot to be the error of the fit on the *training data*.\n",
    "\n",
    "*5 marks*"
   ]
  },
  {
   "cell_type": "code",
   "execution_count": 3,
   "metadata": {
    "collapsed": false,
    "scrolled": true
   },
   "outputs": [
    {
     "data": {
      "text/plain": [
       "<matplotlib.text.Text at 0x11b6615f8>"
      ]
     },
     "execution_count": 3,
     "metadata": {},
     "output_type": "execute_result"
    },
    {
     "data": {
      "image/png": "[encoded data removed]",
      "text/plain": [
       "<matplotlib.figure.Figure at 0x1055cbe80>"
      ]
     },
     "metadata": {},
     "output_type": "display_data"
    }
   ],
   "source": [
    "#### Question 1 Answer Code\n",
    "# Write code for you answer to this question in this box\n",
    "# Do not delete these comments, otherwise you will get zero for this answer.\n",
    "# Make sure your code has run and the answer is correct *before* submitting your notebook for marking.\n",
    "\n",
    "import scipy as sp\n",
    "\n",
    "# Function that computes Phi for the linear basis. \n",
    "def linear(x): \n",
    "    phi = np.hstack([np.ones_like(x), x])\n",
    "    return phi\n",
    "\n",
    "# Function that computes the prediction given the basis function, the inputs and the weights.\n",
    "def prediction(w, x, basis_function):\n",
    "    phi = basis_function(x)\n",
    "    f = np.dot(phi, w)    \n",
    "    return f\n",
    "\n",
    "# Function that computes the sum of squares objective function\n",
    "def objective(w, x, y, basis_function):\n",
    "    phi = basis_function(x)\n",
    "    f = prediction(w, x, basis_function)\n",
    "    obj = ((y - f)**2).sum()\n",
    "    return obj\n",
    "\n",
    "def fit(x, y, basis_function):\n",
    "    # Design matrix.\n",
    "    phi = basis_function(x)   \n",
    "    # QR decomposition.\n",
    "    Q, R = np.linalg.qr(phi)\n",
    "    w_star = sp.linalg.solve_triangular(R, np.dot(Q.T, y))\n",
    "    \n",
    "    return w_star\n",
    "\n",
    "# Construct the design matrix\n",
    "PHI = linear(x)\n",
    "# Fit - Get weights.\n",
    "w_star = fit(x, y, linear)\n",
    "# Calculate predictions\n",
    "f = prediction(w_star, x, linear)\n",
    "\n",
    "# Error\n",
    "error = objective(w_star, x, y, linear)\n",
    "\n",
    "# Plot\n",
    "%matplotlib inline \n",
    "fig, ax = plt.subplots(figsize=(12,4))\n",
    "plt.plot(x, y, \"rx\", label = \"Data points\")\n",
    "plt.plot(x, f,  label=\"Prediction function\")\n",
    "plt.legend(loc='upper right', fontsize=10)\n",
    "plt.title(\"Error of the fit on the training data: %s\"%error)"
   ]
  },
  {
   "cell_type": "markdown",
   "metadata": {},
   "source": [
    "## Polynomial Fit: Training Error\n",
    "\n",
    "The next thing we'll do is consider a quadratic fit. We will compute the training error for the two fits.\n"
   ]
  },
  {
   "cell_type": "markdown",
   "metadata": {},
   "source": [
    "### Assignment Question 2\n",
    "\n",
    "In this question we extend the code above to a non-linear basis (a quadratic function).\n",
    "\n",
    "Start by creating a python-function called `quadratic`. It should compute the quadratic basis.\n",
    "$$\\boldsymbol{\\Phi} = \\begin{bmatrix} \\mathbf{1} & \\mathbf{x} & \\mathbf{x}^2\\end{bmatrix}$$\n",
    "It should be called in the following form:\n",
    "```python\n",
    "Phi = quadratic(x)\n",
    "```\n",
    "Use this to compute the quadratic fit for the model, again plotting the result titled by the error.\n",
    "\n",
    "*5 marks*"
   ]
  },
  {
   "cell_type": "code",
   "execution_count": 7,
   "metadata": {
    "collapsed": false
   },
   "outputs": [
    {
     "data": {
      "text/plain": [
       "<matplotlib.text.Text at 0x11b9daac8>"
      ]
     },
     "execution_count": 7,
     "metadata": {},
     "output_type": "execute_result"
    },
    {
     "data": {
      "image/png": "[encoded data removed]",
      "text/plain": [
       "<matplotlib.figure.Figure at 0x11b9aba58>"
      ]
     },
     "metadata": {},
     "output_type": "display_data"
    }
   ],
   "source": [
    "#### Question 2 Answer Code\n",
    "# Write code for you answer to this question in this box\n",
    "# Do not delete these comments, otherwise you will get zero for this answer.\n",
    "# Make sure your code has run and the answer is correct *before* submitting your notebook for marking.\n",
    "\n",
    "# Function to compute quadratic basis.\n",
    "def quadratic(x):\n",
    "    phi = np.zeros((x.shape[0], 3))\n",
    "    \n",
    "    for i in range(3):\n",
    "        phi[:, i:i+1] = x**i\n",
    "    return phi\n",
    "\n",
    "# Get the design matrix\n",
    "PHI = quadratic(x)\n",
    "# Get weights.\n",
    "w_star = fit(x, y, quadratic)\n",
    "# Get the prediction\n",
    "f = prediction(w_star, x, quadratic)\n",
    "# Error\n",
    "error = objective(w_star, x, y, quadratic)\n",
    "\n",
    "# Plot\n",
    "%matplotlib inline \n",
    "fig, ax = plt.subplots(figsize=(12,4))\n",
    "plt.plot(x, y, \"rx\", label = \"Data points\")\n",
    "plt.plot(x, f,  label=\"Prediction function\")\n",
    "plt.legend(loc='upper right', fontsize=10)\n",
    "plt.title(\"Error of the fit on the training data: %s\"%error)"
   ]
  },
  {
   "cell_type": "markdown",
   "metadata": {},
   "source": [
    "### Hold Out Data\n",
    "\n",
    "You have a conclusion as to which model fits best under the training error, but how do the two models perform in terms of validation? In this section we consider *hold out* validation. In hold out validation we remove a portion of the training data for *validating* the model on. The remaining data is used for fitting the model (training). Because this is a time series prediction, it makes sense for us to hold out data at the end of the time series. This means that we are validating on future predictions. We will hold out data from after 1980 and fit the model to the data before 1980. "
   ]
  },
  {
   "cell_type": "code",
   "execution_count": 8,
   "metadata": {
    "collapsed": false
   },
   "outputs": [],
   "source": [
    "# select indices of data to 'hold out'\n",
    "indices_hold_out = np.flatnonzero(x>1980)\n",
    "\n",
    "# Create a training set\n",
    "x_train = np.delete(x, indices_hold_out, axis=0)\n",
    "y_train = np.delete(y, indices_hold_out, axis=0)\n",
    "\n",
    "# Create a hold out set\n",
    "x_valid = np.take(x, indices_hold_out, axis=0)\n",
    "y_valid = np.take(y, indices_hold_out, axis=0)"
   ]
  },
  {
   "cell_type": "markdown",
   "metadata": {},
   "source": [
    "### Assignment Question 3\n",
    "\n",
    "For both the linear and quadratic models, fit the model to the data up until 1980 and then compute the error on the held out data (from 1980 onwards). Which model performs better on the validation data?\n",
    "\n",
    "*5 marks*"
   ]
  },
  {
   "cell_type": "code",
   "execution_count": 9,
   "metadata": {
    "collapsed": false
   },
   "outputs": [
    {
     "name": "stdout",
     "output_type": "stream",
     "text": [
      "1.91159725287\n",
      "0.337505824167\n",
      "Quadratic basis function performs better on the validation data.\n"
     ]
    },
    {
     "data": {
      "text/plain": [
       "(1890, 2020)"
      ]
     },
     "execution_count": 9,
     "metadata": {},
     "output_type": "execute_result"
    },
    {
     "data": {
      "image/png": "[encoded data removed]",
      "text/plain": [
       "<matplotlib.figure.Figure at 0x11b9d1da0>"
      ]
     },
     "metadata": {},
     "output_type": "display_data"
    }
   ],
   "source": [
    "#### Question 3 Answer Code\n",
    "# Write code for you answer to this question in this box\n",
    "# Do not delete these comments, otherwise you will get zero for this answer.\n",
    "# Make sure your code has run and the answer is correct *before* submitting your notebook for marking.\n",
    "\n",
    "######## Linear ########\n",
    "# Get the design matrix\n",
    "PHI = linear(x_train)\n",
    "\n",
    "# Get weights.\n",
    "w_star = fit(x_train, y_train, linear)\n",
    "\n",
    "# Get the prediction\n",
    "f = prediction(w_star, x_train, linear)\n",
    "    \n",
    "######## Quadratic ########\n",
    "# Get the design matrix\n",
    "PHI_q = quadratic(x_train)\n",
    "# Get weights.\n",
    "w_star_q = fit(x_train, y_train, quadratic)\n",
    "# Get the prediction\n",
    "f_q = prediction(w_star_q, x_train, quadratic)\n",
    "\n",
    "# Compute the error on the held out data\n",
    "error = objective(w_star, x_valid, y_valid, linear)\n",
    "print(error)\n",
    "\n",
    "error_q = objective(w_star_q, x_valid, y_valid, quadratic)\n",
    "print(error_q)\n",
    "\n",
    "# Write the result of the comparison.\n",
    "if (error > error_q):\n",
    "    print(\"Quadratic basis function performs better on the validation data.\")\n",
    "else:\n",
    "    print(\"Linear basis function performs better on the validation data.\")\n",
    "\n",
    "# Plot\n",
    "%matplotlib inline \n",
    "fig, ax = plt.subplots(figsize=(12,4))\n",
    "plt.plot(x_train, y_train, \"rx\", label = \"Training data points\")\n",
    "plt.plot(x_valid, y_valid, \"ro\", label = \"Validation data points\")\n",
    "plt.plot(x_train, f,  label=\"Linear\")\n",
    "plt.plot(x_train, f_q, label= \"Quadtratic\")\n",
    "plt.legend(loc='upper right', fontsize=10)\n",
    "ax.set_xlim([1890, 2020])"
   ]
  },
  {
   "cell_type": "markdown",
   "metadata": {},
   "source": [
    "### Richer Basis Set\n",
    "\n",
    "Now we have an approach for deciding which model to retain, we can consider the entire family of polynomial bases, with arbitrary degrees.  "
   ]
  },
  {
   "cell_type": "markdown",
   "metadata": {},
   "source": [
    "### Assignment Question 4\n",
    "\n",
    "Now we are going to build a more sophisticated form of basis function, one that can accept arguments to its inputs (similar to those we used in the last week). Here we will start with a polynomial basis.\n",
    "\n",
    "```python\n",
    "def polynomial(x, degree, loc, scale):\n",
    "    degrees = np.arange(degree+1)\n",
    "    return ((x-loc)/scale)**degrees\n",
    "```\n",
    "The basis as we've defined it has three arguments as well as the input. The degree of the polynomial, the scale of the polynomial and the offset. These arguments need to be passed to the basis functions whenever they are called. Modify your code to pass these additional arguments to the python function for creating the basis. Do this for each of your functions `predict`, `fit` and `objective`. You will find `*args` (or `**kwargs`) useful.\n",
    "\n",
    "Write code that tries to fit different models to the data with polynomial basis. Use a maximum degree for your basis from 0 to 17. For each polynomial store the *hold out validation error* and the *training error*. When you have finished the computation plot the hold out error for your models and the training error for your p. When computing your polynomial basis use `offset=1956.` and `scale=120.` to ensure that the data is mapped (roughly) to the -1, 1 range.\n",
    "\n",
    "Which polynomial has the minimum training error? Which polynomial has the minimum validation error?\n",
    "\n",
    "*15 marks*"
   ]
  },
  {
   "cell_type": "code",
   "execution_count": 10,
   "metadata": {
    "collapsed": false
   },
   "outputs": [
    {
     "name": "stdout",
     "output_type": "stream",
     "text": [
      "Polynomial with the less training error:  16\n",
      "Polynomial with the less validation error:  3\n",
      "Training error:  [  2.62529979e+02   5.73633101e+00   1.39277676e+00   1.09853619e+00\n",
      "   1.04391283e+00   1.02421204e+00   8.10242329e-01   6.28719142e-01\n",
      "   6.10287178e-01   6.08856464e-01   5.97169122e-01   3.18721861e-01\n",
      "   1.96608448e-01   1.74204960e-01   1.29463119e-01   1.11045968e-01\n",
      "   4.18502115e-02   3.14566741e-01]\n",
      "Validation error:  [  7.61787797e+01   2.81331280e+00   1.91159725e+00   3.37505824e-01\n",
      "   2.51374553e+00   2.63705749e+01   8.45275311e+02   4.48628466e+03\n",
      "   7.64335183e+02   1.16058246e+04   5.21645458e+05   1.40450610e+08\n",
      "   4.05078062e+08   7.18942505e+08   7.38863028e+10   1.27907842e+11\n",
      "   1.47927546e+13   1.13505660e+15]\n"
     ]
    },
    {
     "data": {
      "text/plain": [
       "<matplotlib.text.Text at 0x11bbd7198>"
      ]
     },
     "execution_count": 10,
     "metadata": {},
     "output_type": "execute_result"
    },
    {
     "data": {
      "image/png": "[encoded data removed]",
      "text/plain": [
       "<matplotlib.figure.Figure at 0x11b0fc518>"
      ]
     },
     "metadata": {},
     "output_type": "display_data"
    },
    {
     "data": {
      "image/png": "[encoded data removed]",
      "text/plain": [
       "<matplotlib.figure.Figure at 0x11bbacf98>"
      ]
     },
     "metadata": {},
     "output_type": "display_data"
    }
   ],
   "source": [
    "#### Question 4 Answer Code\n",
    "# Write code for you answer to this question in this box\n",
    "# Do not delete these comments, otherwise you will get zero for this answer.\n",
    "# Make sure your code has run and the answer is correct *before* submitting your notebook for marking.\n",
    "import numpy as np\n",
    "import matplotlib.pyplot as plt\n",
    "\n",
    "def polynomial(x, degree, loc, scale):\n",
    "    degrees = np.arange(degree)\n",
    "    return ((x-loc)/scale)**degrees\n",
    "\n",
    "# Prefiction function\n",
    "def prediction(w, x, basis_function, **kwargs):\n",
    "    phi = basis_function(x, **kwargs)\n",
    "    f = np.dot(phi, w)\n",
    "    return f\n",
    "\n",
    "# Error\n",
    "def objective(w, x, y, basis_function, **kwargs):\n",
    "    # Calculate the pred function\n",
    "    f = prediction(w, x, basis_function, **kwargs)\n",
    "    obj = ((y - f)**2).sum()\n",
    "    return obj\n",
    "\n",
    "def fit(x, y, basis_function, **kwargs):\n",
    "    # Design matrix.\n",
    "    phi = basis_function(x, **kwargs)\n",
    "    \n",
    "    phi_t_phi = np.dot(phi.T, phi)\n",
    "    phi_t_y = np.dot(phi.T, y)\n",
    "    w_star = np.linalg.solve(phi_t_phi, phi_t_y)    \n",
    "    return w_star \n",
    "\n",
    "# Initialise values\n",
    "max_basis = 17\n",
    "offset = 1956.\n",
    "scale = 120.\n",
    "\n",
    "# Initialise vectors to store the hold out validation and training errors.\n",
    "training_err = np.zeros(max_basis + 1)\n",
    "validation_err = np.zeros(max_basis + 1)\n",
    "\n",
    "def tr_error(x_train, y_train, x_valid, y_valid, basis_function, **kwargs):\n",
    "    w = fit(x_train, y_train, basis_function, **kwargs)\n",
    "    f = prediction(w, x_train, basis_function, **kwargs)\n",
    "    training_err = objective(w, x_train, y_train, basis_function, **kwargs)   \n",
    "    return training_err\n",
    "\n",
    "def val_error(x_train, y_train, x_valid, y_valid, basis_function, **kwargs):\n",
    "    w = fit(x_train, y_train, basis_function, **kwargs)\n",
    "    f = prediction(w, x_train, basis_function, **kwargs)\n",
    "    validation_err = objective(w, x_valid, y_valid, basis_function, **kwargs)\n",
    "    return validation_err\n",
    "      \n",
    "for i in range(max_basis + 1):\n",
    "    training_err[i]  = tr_error(x_train, y_train, x_valid, y_valid, basis_function = polynomial, \n",
    "                                degree = i, loc = offset, scale = scale)\n",
    "    validation_err[i]  = val_error(x_train, y_train, x_valid, y_valid, basis_function = polynomial, \n",
    "                                degree = i, loc = offset, scale = scale)\n",
    "       \n",
    "\n",
    "print(\"Polynomial with the less training error: \", np.argmin(training_err))\n",
    "print(\"Polynomial with the less validation error: \", np.argmin(validation_err))\n",
    "\n",
    "print(\"Training error: \", training_err)\n",
    "print(\"Validation error: \", validation_err)\n",
    "\n",
    "%matplotlib inline \n",
    "\n",
    "# Plot validation error\n",
    "fig, ax = plt.subplots(figsize=(12, 4))\n",
    "plt.plot(np.arange(max_basis + 1), validation_err, 'rx-', label = \"Validation error\")\n",
    "ax.set_yscale('log')\n",
    "plt.legend(loc=\"lower right\")\n",
    "plt.xlabel(\"Polynomial degree\")\n",
    "plt.ylabel(\"Validation Error\")\n",
    "plt.title(\"Validation error\")\n",
    "\n",
    "\n",
    "# Plot training error\n",
    "fig2, ax2 = plt.subplots(figsize=(12,4))\n",
    "plt.plot(np.arange(max_basis + 1), training_err, 'bx-', label = \"Training error\")\n",
    "plt.legend(loc =\"upper right\")\n",
    "plt.xlabel(\"Polynomial degree\")\n",
    "plt.ylabel(\"Training Error\")\n",
    "plt.title(\"Training error\")\n",
    "\n"
   ]
  },
  {
   "cell_type": "code",
   "execution_count": 42,
   "metadata": {
    "collapsed": false
   },
   "outputs": [
    {
     "ename": "NameError",
     "evalue": "name 'train_err' is not defined",
     "output_type": "error",
     "traceback": [
      "\u001b[0;31m---------------------------------------------------------------------------\u001b[0m",
      "\u001b[0;31mNameError\u001b[0m                                 Traceback (most recent call last)",
      "\u001b[0;32m<ipython-input-42-5cc885da19fb>\u001b[0m in \u001b[0;36m<module>\u001b[0;34m()\u001b[0m\n\u001b[0;32m----> 1\u001b[0;31m \u001b[0mtrain_err\u001b[0m\u001b[0;34m\u001b[0m\u001b[0m\n\u001b[0m",
      "\u001b[0;31mNameError\u001b[0m: name 'train_err' is not defined"
     ]
    }
   ],
   "source": [
    "train_err"
   ]
  },
  {
   "cell_type": "markdown",
   "metadata": {},
   "source": [
    "## Leave One Out Validation\n",
    "\n",
    "Hold out validation uses a portion of the data to hold out and a portion of the data to train on. There is always a compromise between how much data to hold out and how much data to train on. The more data you hold out, the better the estimate of your performance at 'run-time' (when the model is used to make predictions in real applications). However, by holding out more data, you leave less data to train on, so you have a better validation, but a poorer quality model fit than you could have had if you'd used all the data for training. Leave one out cross validation leaves as much data in the training phase as possible: you only take *one point* out for your validation set. However, if you do this for hold-out validation, then the quality of your validation error is very poor because you are testing the model quality on one point only. In *cross validation* the approach is to improve this estimate by doing more than one model fit. In *leave one out cross validation* you fit $n$ different models, where $n$ is the number of your data. For each model fit you take out one data point, and train the model on the remaining $n-1$ data points. You validate the model on the data point you've held out, but you do this $n$ times, once for each different model. You then take the *average* of all the $n$ badly estimated hold out validation errors. The average of this estimate is a good estimate of performance of those models on the test data. "
   ]
  },
  {
   "cell_type": "markdown",
   "metadata": {},
   "source": [
    "### Assignment Question 5\n",
    "\n",
    "Write code that computes the *leave one out* validation error for the olympic data and the polynomial basis. Use the functions you have created above: `objective`, `fit`, `polynomial`. Compute the *leave-one-out* cross validation error for basis functions containing a maximum degree from 0 to 17.\n",
    "\n",
    "*10 marks*"
   ]
  },
  {
   "cell_type": "code",
   "execution_count": 1,
   "metadata": {
    "collapsed": false
   },
   "outputs": [
    {
     "ename": "NameError",
     "evalue": "name 'x' is not defined",
     "output_type": "error",
     "traceback": [
      "\u001b[0;31m---------------------------------------------------------------------------\u001b[0m",
      "\u001b[0;31mNameError\u001b[0m                                 Traceback (most recent call last)",
      "\u001b[0;32m<ipython-input-1-fc4e4e7588d2>\u001b[0m in \u001b[0;36m<module>\u001b[0;34m()\u001b[0m\n\u001b[1;32m     22\u001b[0m \u001b[0mvalidation_err\u001b[0m \u001b[0;34m=\u001b[0m \u001b[0mnp\u001b[0m\u001b[0;34m.\u001b[0m\u001b[0mzeros\u001b[0m\u001b[0;34m(\u001b[0m\u001b[0mmax_basis\u001b[0m \u001b[0;34m+\u001b[0m \u001b[0;36m1\u001b[0m\u001b[0;34m)\u001b[0m\u001b[0;34m\u001b[0m\u001b[0m\n\u001b[1;32m     23\u001b[0m \u001b[0mtraining_err\u001b[0m \u001b[0;34m=\u001b[0m \u001b[0mnp\u001b[0m\u001b[0;34m.\u001b[0m\u001b[0mzeros\u001b[0m\u001b[0;34m(\u001b[0m\u001b[0mmax_basis\u001b[0m \u001b[0;34m+\u001b[0m \u001b[0;36m1\u001b[0m\u001b[0;34m)\u001b[0m\u001b[0;34m\u001b[0m\u001b[0m\n\u001b[0;32m---> 24\u001b[0;31m \u001b[0mn\u001b[0m \u001b[0;34m=\u001b[0m \u001b[0mx\u001b[0m\u001b[0;34m.\u001b[0m\u001b[0mshape\u001b[0m\u001b[0;34m[\u001b[0m\u001b[0;36m0\u001b[0m\u001b[0;34m]\u001b[0m\u001b[0;34m\u001b[0m\u001b[0m\n\u001b[0m\u001b[1;32m     25\u001b[0m \u001b[0;34m\u001b[0m\u001b[0m\n\u001b[1;32m     26\u001b[0m \u001b[0;32mfor\u001b[0m \u001b[0mi\u001b[0m \u001b[0;32min\u001b[0m \u001b[0mrange\u001b[0m\u001b[0;34m(\u001b[0m\u001b[0mmax_basis\u001b[0m \u001b[0;34m+\u001b[0m \u001b[0;36m1\u001b[0m\u001b[0;34m)\u001b[0m\u001b[0;34m:\u001b[0m \u001b[0;31m# for every polynomial degree\u001b[0m\u001b[0;34m\u001b[0m\u001b[0m\n",
      "\u001b[0;31mNameError\u001b[0m: name 'x' is not defined"
     ]
    }
   ],
   "source": [
    "#### Question 5 Answer Code\n",
    "# Write code for you answer to this question in this box\n",
    "# Do not delete these comments, otherwise you will get zero for this answer.\n",
    "# Make sure your code has run and the answer is correct *before* submitting your notebook for marking.\n",
    "import numpy as np\n",
    "import matplotlib.pyplot as plt\n",
    "\n",
    "# Code taken from above.\n",
    "def leave_one_out(x, y, indices_hold_out):\n",
    "    # Create a training set\n",
    "    x_train = np.delete(x, indices_hold_out, axis=0)\n",
    "    y_train = np.delete(y, indices_hold_out, axis=0)\n",
    "\n",
    "    # Create a hold out set\n",
    "    x_valid = np.take(x, indices_hold_out, axis=0)\n",
    "    y_valid = np.take(y, indices_hold_out, axis=0)\n",
    "    \n",
    "    return x_valid, y_valid, x_train, y_train\n",
    "\n",
    "# Initialise values\n",
    "max_basis = 17\n",
    "validation_err = np.zeros(max_basis + 1)\n",
    "training_err = np.zeros(max_basis + 1)\n",
    "n = x.shape[0]\n",
    "\n",
    "for i in range(max_basis + 1): # for every polynomial degree\n",
    "    for j in range(n): # leave one data point out\n",
    "        # Get validation and training data. \n",
    "        x_valid, y_valid, x_train, y_train = leave_one_out(x, y, j)\n",
    "        \n",
    "        # Calculate validation error\n",
    "        validation_err[i]  += val_error(x_train, y_train, x_valid, y_valid, basis_function = polynomial, \n",
    "                                        degree = i, loc = offset, scale = scale) / n\n",
    "print(\"Validation error: \", validation_err)\n",
    "print(\"Polynomial with the less validation error: \", np.argmin(validation_err))\n",
    "\n",
    "\n",
    "# Plot validation error\n",
    "fig, ax = plt.subplots(figsize=(12, 4))\n",
    "plt.plot(np.arange(max_basis + 1), validation_err, 'rx-', label = \"Validation error\")\n",
    "ax.set_yscale('log')\n",
    "plt.legend(loc=\"lower right\")\n",
    "plt.xlabel(\"Polynomial degree\")\n",
    "plt.ylabel(\"Validation Error\")\n",
    "plt.title(\"Validation error\")"
   ]
  },
  {
   "cell_type": "markdown",
   "metadata": {},
   "source": [
    "## $k$-fold Cross Validation\n",
    "\n",
    "Leave one out cross validation produces a very good estimate of the performance at test time, and is particularly useful if you don't have a lot of data. In these cases you need to make as much use of your data for model fitting as possible, and having a large hold out data set (to validate model performance) can have a significant effect on the size of the data set you have to fit your model, and correspondingly, the complexity of the model you can fit. However, leave one out cross validation involves fitting $n$ models, where $n$ is your number of training data. For the olympics example, this is only 27 model fits, but in practice many data sets consist thousands or millions of data points, and fitting many millions of models for estimating validation error isn't really practical. One option is to return to *hold out* validation, but another approach is to perform $k$-fold cross validation. In $k$-fold cross validation you split your data into $k$ parts. Then you use $k-1$ of those parts for training, and hold out one part for validation. Just like we did for the hold out validation above. In *cross* validation, however, you repeat this process. You swap the part of the data you just used for validation back in to the training set and select another part for validation. You then fit the model to the new training data and validate on the portion of data you've just extracted. Each split of training/validation data is called a *fold* and since you do this process $k$ times, the procedure is known as $k$-fold cross validation. The term *cross* refers to the fact that you cross over your validation portion back into the training data every time you perform a fold.  "
   ]
  },
  {
   "cell_type": "markdown",
   "metadata": {},
   "source": [
    "### Assignment Question 6\n",
    "\n",
    "Perform $k$-fold cross validation on the olympic data with your polynomial basis. Use $k$ set to 5 (e.g. five fold cross validation). Do the different forms of validation select different models? Does five fold cross validation always select the same model?\n",
    "\n",
    "*10 marks*"
   ]
  },
  {
   "cell_type": "markdown",
   "metadata": {},
   "source": [
    "*Note*: The data doesn't divide into 5 equal size partitions for the five fold cross validation error. Don't worry about this too much. Two of the partitions will have an extra data point. You might find `np.random.permutation?` useful."
   ]
  },
  {
   "cell_type": "code",
   "execution_count": 12,
   "metadata": {
    "collapsed": false
   },
   "outputs": [
    {
     "name": "stdout",
     "output_type": "stream",
     "text": [
      "Validation error:  [  1.25447688e+01   3.04100248e-01   8.89465154e-02   6.31486954e-02\n",
      "   6.33546067e-02   7.00538808e-02   8.89380847e-02   1.14958760e-01\n",
      "   9.33406081e-02   1.50019679e-01   4.56522476e-01   1.15256019e+00\n",
      "   3.73490575e+00   1.72121817e+01   2.68148858e+01   1.40632126e+01\n",
      "   1.36245924e+02   7.94847419e+02]\n",
      "Polynomial with the less validation error:  3\n",
      "The five fold cross validation does not always select the same model\n"
     ]
    },
    {
     "name": "stderr",
     "output_type": "stream",
     "text": [
      "/Users/gmyrianthous/anaconda/lib/python3.5/site-packages/ipykernel/__main__.py:17: VisibleDeprecationWarning: using a non-integer number instead of an integer will result in an error in the future\n"
     ]
    },
    {
     "data": {
      "text/plain": [
       "<matplotlib.text.Text at 0x11d33eac8>"
      ]
     },
     "execution_count": 12,
     "metadata": {},
     "output_type": "execute_result"
    },
    {
     "data": {
      "image/png": "[encoded data removed]",
      "text/plain": [
       "<matplotlib.figure.Figure at 0x11d34bb38>"
      ]
     },
     "metadata": {},
     "output_type": "display_data"
    }
   ],
   "source": [
    "#### Question 6 Answer Code\n",
    "# Write code for you answer to this question in this box\n",
    "# Do not delete these comments, otherwise you will get zero for this answer.\n",
    "# Make sure your code has run and the answer is correct *before* submitting your notebook for marking.\n",
    "\n",
    "# Initialise values\n",
    "max_basis = 17\n",
    "validation_err = np.zeros(max_basis + 1)\n",
    "k = 5\n",
    "n = x.shape[0]\n",
    "randomised = np.random.permutation(n)\n",
    "\n",
    "\n",
    "for i in range(max_basis + 1):\n",
    "    for j in range(k):\n",
    "        partitions = np.around(np.linspace(0, n, k + 1))\n",
    "        leave_out = randomised[partitions[j]:partitions[j + 1]] \n",
    "        x_valid, y_valid, x_train, y_train = leave_one_out(x, y, leave_out)\n",
    "\n",
    "        # Calculate validation error\n",
    "        validation_err[i]  += val_error(x_train, y_train, x_valid, y_valid, basis_function = polynomial, \n",
    "                                        degree = i, loc = offset, scale = scale) / n\n",
    "        \n",
    "print(\"Validation error: \", validation_err)\n",
    "print(\"Polynomial with the less validation error: \", np.argmin(validation_err))\n",
    "\n",
    "print(\"The five fold cross validation does not always select the same model\")\n",
    "\n",
    "# Plot validation error\n",
    "fig, ax = plt.subplots(figsize=(12, 4))\n",
    "plt.plot(np.arange(max_basis + 1), validation_err, 'rx-', label = \"Validation error\")\n",
    "ax.set_yscale('log')\n",
    "plt.legend(loc=\"lower right\")\n",
    "plt.xlabel(\"Polynomial degree\")\n",
    "plt.ylabel(\"Validation Error\")\n",
    "plt.title(\"Validation error\")"
   ]
  },
  {
   "cell_type": "code",
   "execution_count": null,
   "metadata": {
    "collapsed": true
   },
   "outputs": [],
   "source": []
  }
 ],
 "metadata": {
  "anaconda-cloud": {},
  "kernelspec": {
   "display_name": "Python [Root]",
   "language": "python",
   "name": "Python [Root]"
  },
  "language_info": {
   "codemirror_mode": {
    "name": "ipython",
    "version": 3
   },
   "file_extension": ".py",
   "mimetype": "text/x-python",
   "name": "python",
   "nbconvert_exporter": "python",
   "pygments_lexer": "ipython3",
   "version": "3.5.2"
  }
 },
 "nbformat": 4,
 "nbformat_minor": 0
}
